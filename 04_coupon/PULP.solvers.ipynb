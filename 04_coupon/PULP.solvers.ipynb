{
 "cells": [
  {
   "cell_type": "code",
   "execution_count": 1,
   "id": "d5e317fe",
   "metadata": {},
   "outputs": [],
   "source": [
    "import pulp"
   ]
  },
  {
   "cell_type": "code",
   "execution_count": 2,
   "id": "bb564a6c",
   "metadata": {},
   "outputs": [],
   "source": [
    "def availableSolver(cls):\n",
    "    for c in cls.__subclasses__():\n",
    "        try:\n",
    "            availableSolver(c)\n",
    "            if c().available():\n",
    "                print(c)\n",
    "        except:\n",
    "            pass"
   ]
  },
  {
   "cell_type": "code",
   "execution_count": 3,
   "id": "b7785c69",
   "metadata": {},
   "outputs": [
    {
     "name": "stdout",
     "output_type": "stream",
     "text": [
      "<class 'pulp.apis.coin_api.PULP_CBC_CMD'>\n"
     ]
    }
   ],
   "source": [
    "availableSolver(pulp.LpSolver)"
   ]
  },
  {
   "cell_type": "markdown",
   "id": "f6076009",
   "metadata": {},
   "source": [
    "pulp のデフォルトの CBC のバージョン\n",
    "\n",
    "```\n",
    "Welcome to the CBC MILP Solver                                                                                     \n",
    "Version: 2.10.3\n",
    "```"
   ]
  },
  {
   "cell_type": "markdown",
   "id": "97dcaed3",
   "metadata": {},
   "source": [
    "apt でインストールした CBC のバージョン\n",
    "\n",
    "```\n",
    "Welcome to the CBC MILP Solver                                                                                     \n",
    "Version: 2.10.7\n",
    "Build Date: Feb 14 2022\n",
    "```"
   ]
  },
  {
   "cell_type": "code",
   "execution_count": 5,
   "id": "d2856895",
   "metadata": {},
   "outputs": [
    {
     "name": "stdout",
     "output_type": "stream",
     "text": [
      "['/home/ysaito/.pyenv/versions/anaconda3-2021.05/lib/python3.8/site-packages/pulp']\n"
     ]
    }
   ],
   "source": [
    "print(pulp.__path__)"
   ]
  },
  {
   "cell_type": "code",
   "execution_count": null,
   "id": "6bf01af7",
   "metadata": {},
   "outputs": [],
   "source": []
  }
 ],
 "metadata": {
  "kernelspec": {
   "display_name": "Python [conda env:anaconda3-2021.05]",
   "language": "python",
   "name": "conda-env-anaconda3-2021.05-py"
  },
  "language_info": {
   "codemirror_mode": {
    "name": "ipython",
    "version": 3
   },
   "file_extension": ".py",
   "mimetype": "text/x-python",
   "name": "python",
   "nbconvert_exporter": "python",
   "pygments_lexer": "ipython3",
   "version": "3.8.12"
  }
 },
 "nbformat": 4,
 "nbformat_minor": 5
}
