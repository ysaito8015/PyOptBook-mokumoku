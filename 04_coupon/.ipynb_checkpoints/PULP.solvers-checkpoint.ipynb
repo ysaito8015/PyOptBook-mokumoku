{
 "cells": [
  {
   "cell_type": "code",
   "execution_count": 1,
   "id": "384ee127",
   "metadata": {},
   "outputs": [],
   "source": [
    "import pulp"
   ]
  },
  {
   "cell_type": "code",
   "execution_count": null,
   "id": "763ae702",
   "metadata": {},
   "outputs": [],
   "source": [
    "def availableSolver(cls):\n"
   ]
  }
 ],
 "metadata": {
  "kernelspec": {
   "display_name": "Python [conda env:anaconda3-2021.05]",
   "language": "python",
   "name": "conda-env-anaconda3-2021.05-py"
  },
  "language_info": {
   "codemirror_mode": {
    "name": "ipython",
    "version": 3
   },
   "file_extension": ".py",
   "mimetype": "text/x-python",
   "name": "python",
   "nbconvert_exporter": "python",
   "pygments_lexer": "ipython3",
   "version": "3.8.12"
  }
 },
 "nbformat": 4,
 "nbformat_minor": 5
}
